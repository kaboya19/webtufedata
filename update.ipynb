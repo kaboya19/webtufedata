{
 "cells": [
  {
   "cell_type": "code",
   "execution_count": null,
   "id": "378d0f88",
   "metadata": {},
   "outputs": [
    {
     "name": "stdout",
     "output_type": "stream",
     "text": [
      "Starting upload for file endeksler.csv\n"
     ]
    },
    {
     "name": "stderr",
     "output_type": "stream",
     "text": [
      "100%|██████████| 979k/979k [00:01<00:00, 704kB/s] \n"
     ]
    },
    {
     "name": "stdout",
     "output_type": "stream",
     "text": [
      "Upload successful: endeksler.csv (979KB)\n",
      "Starting upload for file gruplaraylik.csv\n"
     ]
    },
    {
     "name": "stderr",
     "output_type": "stream",
     "text": [
      "100%|██████████| 1.45k/1.45k [00:00<00:00, 3.28kB/s]\n"
     ]
    },
    {
     "name": "stdout",
     "output_type": "stream",
     "text": [
      "Upload successful: gruplaraylik.csv (1KB)\n",
      "Starting upload for file gruplar_int.csv\n"
     ]
    },
    {
     "name": "stderr",
     "output_type": "stream",
     "text": [
      "100%|██████████| 41.2k/41.2k [00:00<00:00, 73.5kB/s]\n"
     ]
    },
    {
     "name": "stdout",
     "output_type": "stream",
     "text": [
      "Upload successful: gruplar_int.csv (41KB)\n",
      "Starting upload for file harcamagrupları.csv\n"
     ]
    },
    {
     "name": "stderr",
     "output_type": "stream",
     "text": [
      "100%|██████████| 340k/340k [00:01<00:00, 309kB/s] \n"
     ]
    },
    {
     "name": "stdout",
     "output_type": "stream",
     "text": [
      "Upload successful: harcamagrupları.csv (340KB)\n",
      "Starting upload for file harcamagruplarıaylik.csv\n"
     ]
    },
    {
     "name": "stderr",
     "output_type": "stream",
     "text": [
      "100%|██████████| 14.6k/14.6k [00:00<00:00, 30.2kB/s]\n"
     ]
    },
    {
     "name": "stdout",
     "output_type": "stream",
     "text": [
      "Upload successful: harcamagruplarıaylik.csv (15KB)\n",
      "Starting upload for file kaggle.json\n"
     ]
    },
    {
     "name": "stderr",
     "output_type": "stream",
     "text": [
      "100%|██████████| 63.0/63.0 [00:00<00:00, 130B/s]\n"
     ]
    },
    {
     "name": "stdout",
     "output_type": "stream",
     "text": [
      "Upload successful: kaggle.json (63B)\n",
      "Starting upload for file maddeleraylık.csv\n"
     ]
    },
    {
     "name": "stderr",
     "output_type": "stream",
     "text": [
      "100%|██████████| 37.1k/37.1k [00:00<00:00, 67.7kB/s]\n"
     ]
    },
    {
     "name": "stdout",
     "output_type": "stream",
     "text": [
      "Upload successful: maddeleraylık.csv (37KB)\n",
      "Starting upload for file ozelgostergeler.csv\n"
     ]
    },
    {
     "name": "stderr",
     "output_type": "stream",
     "text": [
      "100%|██████████| 83.9k/83.9k [00:00<00:00, 121kB/s]\n"
     ]
    },
    {
     "name": "stdout",
     "output_type": "stream",
     "text": [
      "Upload successful: ozelgostergeler.csv (84KB)\n",
      "Starting upload for file ozelgostergeleraylik.csv\n"
     ]
    },
    {
     "name": "stderr",
     "output_type": "stream",
     "text": [
      "100%|██████████| 3.18k/3.18k [00:00<00:00, 6.90kB/s]\n"
     ]
    },
    {
     "name": "stdout",
     "output_type": "stream",
     "text": [
      "Upload successful: ozelgostergeleraylik.csv (3KB)\n",
      "Starting upload for file tufe.csv\n"
     ]
    },
    {
     "name": "stderr",
     "output_type": "stream",
     "text": [
      "100%|██████████| 5.00k/5.00k [00:00<00:00, 10.5kB/s]\n"
     ]
    },
    {
     "name": "stdout",
     "output_type": "stream",
     "text": [
      "Upload successful: tufe.csv (5KB)\n",
      "Starting upload for file tuik.csv\n"
     ]
    },
    {
     "name": "stderr",
     "output_type": "stream",
     "text": [
      "100%|██████████| 4.28k/4.28k [00:00<00:00, 9.43kB/s]\n"
     ]
    },
    {
     "name": "stdout",
     "output_type": "stream",
     "text": [
      "Upload successful: tuik.csv (4KB)\n",
      "Starting upload for file tuikozelgostergeler.csv\n"
     ]
    },
    {
     "name": "stderr",
     "output_type": "stream",
     "text": [
      "100%|██████████| 2.59k/2.59k [00:00<00:00, 5.48kB/s]\n"
     ]
    },
    {
     "name": "stdout",
     "output_type": "stream",
     "text": [
      "Upload successful: tuikozelgostergeler.csv (3KB)\n",
      "✅ Kaggle veri seti güncellendi (15.06.2025)\n"
     ]
    }
   ],
   "source": [
    "import os\n",
    "import datetime\n",
    "from kaggle.api.kaggle_api_extended import KaggleApi\n",
    "\n",
    "dataset_folder = \"data\"\n",
    "dataset_id = \"nilelle/web-tuketici-fiyat-endeksi-turkey-web-cpi\"\n",
    "dataset_title = \"Web Tuketici Fiyat Endeksi (Turkey Web CPI)\"  # Başlık (ilk oluştururken)\n",
    "\n",
    "# === METADATA DOSYASI YOKSA OLUŞTUR ===\n",
    "metadata_path = os.path.join(dataset_folder, \"dataset-metadata.json\")\n",
    "if not os.path.exists(metadata_path):\n",
    "    metadata = {\n",
    "        \"title\": dataset_title,\n",
    "        \"id\": dataset_id,\n",
    "        \"licenses\": [{\"name\": \"CC0-1.0\"}]\n",
    "    }\n",
    "    import json\n",
    "    with open(metadata_path, \"w\") as f:\n",
    "        json.dump(metadata, f, indent=4)\n",
    "    print(\"✅ dataset-metadata.json dosyası oluşturuldu.\")\n",
    "\n",
    "# === KAGGLE'A GİRİŞ YAP ===\n",
    "api = KaggleApi()\n",
    "api.authenticate()\n",
    "\n",
    "# === GÜNCELLEMEYİ YAP ===\n",
    "bugun = datetime.date.today().strftime(\"%d.%m.%Y\")\n",
    "try:\n",
    "    api.dataset_create_version(\n",
    "        folder=dataset_folder,\n",
    "        version_notes=f\"{bugun} tarihinde güncellendi\",\n",
    "        delete_old_versions=True\n",
    "    )\n",
    "    print(f\"✅ Kaggle veri seti güncellendi ({bugun})\")\n",
    "except Exception as e:\n",
    "    print(\"❌ Hata oluştu:\", e)\n"
   ]
  }
 ],
 "metadata": {
  "kernelspec": {
   "display_name": "Python 3",
   "language": "python",
   "name": "python3"
  },
  "language_info": {
   "codemirror_mode": {
    "name": "ipython",
    "version": 3
   },
   "file_extension": ".py",
   "mimetype": "text/x-python",
   "name": "python",
   "nbconvert_exporter": "python",
   "pygments_lexer": "ipython3",
   "version": "3.10.0"
  }
 },
 "nbformat": 4,
 "nbformat_minor": 5
}
